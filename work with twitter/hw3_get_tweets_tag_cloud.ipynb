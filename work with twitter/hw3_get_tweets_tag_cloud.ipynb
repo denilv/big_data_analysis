{
 "cells": [
  {
   "cell_type": "markdown",
   "metadata": {},
   "source": [
    "# Конструирование текстовых признаков из твитов пользователей"
   ]
  },
  {
   "cell_type": "markdown",
   "metadata": {},
   "source": [
    "## Сбор данных"
   ]
  },
  {
   "cell_type": "code",
   "execution_count": 1,
   "metadata": {
    "collapsed": false,
    "scrolled": true
   },
   "outputs": [
    {
     "name": "stdout",
     "output_type": "stream",
     "text": [
      "Populating the interactive namespace from numpy and matplotlib\n"
     ]
    }
   ],
   "source": [
    "import pandas as pd\n",
    "import numpy as np\n",
    "import twitter\n",
    "import matplotlib.pyplot as plt\n",
    "import csv\n",
    "#import time\n",
    "import sys\n",
    "import re\n",
    "\n",
    "# Plotting config\n",
    "%pylab inline"
   ]
  },
  {
   "cell_type": "code",
   "execution_count": 2,
   "metadata": {
    "collapsed": false
   },
   "outputs": [],
   "source": [
    "CONSUMER_KEY = \"---\"\n",
    "CONSUMER_SECRET = \"---\"\n",
    "\n",
    "ACCESS_TOKEN_KEY = \"---\"\n",
    "ACCESS_TOKEN_SECRET =  \"---\"\n",
    "\n",
    "api = twitter.Api(consumer_key=CONSUMER_KEY, \n",
    "                  consumer_secret=CONSUMER_SECRET, \n",
    "                  access_token_key=ACCESS_TOKEN_KEY, \n",
    "                  access_token_secret=ACCESS_TOKEN_SECRET)"
   ]
  },
  {
   "cell_type": "code",
   "execution_count": 3,
   "metadata": {
    "collapsed": false
   },
   "outputs": [
    {
     "data": {
      "text/html": [
       "<div>\n",
       "<table border=\"1\" class=\"dataframe\">\n",
       "  <thead>\n",
       "    <tr style=\"text-align: right;\">\n",
       "      <th></th>\n",
       "      <th>uid</th>\n",
       "      <th>cat</th>\n",
       "    </tr>\n",
       "  </thead>\n",
       "  <tbody>\n",
       "    <tr>\n",
       "      <th>0</th>\n",
       "      <td>40585382</td>\n",
       "      <td>1.0</td>\n",
       "    </tr>\n",
       "    <tr>\n",
       "      <th>1</th>\n",
       "      <td>30005269</td>\n",
       "      <td>0.0</td>\n",
       "    </tr>\n",
       "    <tr>\n",
       "      <th>2</th>\n",
       "      <td>3314758074</td>\n",
       "      <td>0.0</td>\n",
       "    </tr>\n",
       "    <tr>\n",
       "      <th>3</th>\n",
       "      <td>14311688</td>\n",
       "      <td>0.0</td>\n",
       "    </tr>\n",
       "    <tr>\n",
       "      <th>4</th>\n",
       "      <td>110457801</td>\n",
       "      <td>0.0</td>\n",
       "    </tr>\n",
       "  </tbody>\n",
       "</table>\n",
       "</div>"
      ],
      "text/plain": [
       "          uid  cat\n",
       "0    40585382  1.0\n",
       "1    30005269  0.0\n",
       "2  3314758074  0.0\n",
       "3    14311688  0.0\n",
       "4   110457801  0.0"
      ]
     },
     "execution_count": 3,
     "metadata": {},
     "output_type": "execute_result"
    }
   ],
   "source": [
    "TRAINING_SET_URL = \"twitter_train.txt\"\n",
    "EXAMPLE_SET_URL = \"twitter_example.txt\"\n",
    "df_users_train = pd.read_csv(TRAINING_SET_URL, sep=\",\", header=0, names=[\"uid\", \"cat\"])\n",
    "df_users_ex = pd.read_csv(EXAMPLE_SET_URL, sep=\",\", header=0, names=[\"uid\", \"cat\"])\n",
    "df_users_ex['cat'] = None\n",
    "df_users = pd.concat([df_users_train, df_users_ex])\n",
    "df_users = df_users.reset_index(drop=True)\n",
    "df_users.head()"
   ]
  },
  {
   "cell_type": "code",
   "execution_count": 6,
   "metadata": {
    "collapsed": false
   },
   "outputs": [],
   "source": [
    "df = pd.read_csv('tweets/tweets_all.csv', sep=',')"
   ]
  },
  {
   "cell_type": "code",
   "execution_count": 4,
   "metadata": {
    "collapsed": false
   },
   "outputs": [],
   "source": [
    "def get_user_tweets(user_id):\n",
    "    \"\"\"returns list of tweets as dicts\"\"\"\n",
    "    #добавить getsleeptime\n",
    "    tweets = []\n",
    "    timeline = api.GetUserTimeline(user_id, count=200)\n",
    "    for i in timeline:\n",
    "        d = i.AsDict()\n",
    "        tweets.append({'lang': d['lang'], \n",
    "             'favorited': d['favorited'], \n",
    "             'truncated': d['truncated'], \n",
    "             'text': d['text'], \n",
    "             'created_at': d['created_at'], \n",
    "             'retweeted': d['retweeted'], \n",
    "             'source': d['source'], \n",
    "             'user': user_id, \n",
    "             'id': d['id']})\n",
    "    return tweets"
   ]
  },
  {
   "cell_type": "code",
   "execution_count": 5,
   "metadata": {
    "collapsed": false,
    "scrolled": true
   },
   "outputs": [
    {
     "name": "stdout",
     "output_type": "stream",
     "text": [
      "Tweets 0.00000 name 'uids' is not defined\n",
      "Tweets 0.00014 name 'uids' is not defined\n",
      "Sleep for 60 sec\n"
     ]
    },
    {
     "ename": "NameError",
     "evalue": "name 'time' is not defined",
     "output_type": "error",
     "traceback": [
      "\u001b[1;31m---------------------------------------------------------------------------\u001b[0m",
      "\u001b[1;31mNameError\u001b[0m                                 Traceback (most recent call last)",
      "\u001b[1;32m<ipython-input-5-9eb26000926d>\u001b[0m in \u001b[0;36m<module>\u001b[1;34m()\u001b[0m\n\u001b[0;32m     18\u001b[0m         \u001b[1;32mexcept\u001b[0m \u001b[0mException\u001b[0m \u001b[1;32mas\u001b[0m \u001b[0me\u001b[0m\u001b[1;33m:\u001b[0m\u001b[1;33m\u001b[0m\u001b[0m\n\u001b[0;32m     19\u001b[0m             \u001b[1;32mprint\u001b[0m \u001b[1;34m\"Sleep for 60 sec\"\u001b[0m\u001b[1;33m\u001b[0m\u001b[0m\n\u001b[1;32m---> 20\u001b[1;33m             \u001b[0mtime\u001b[0m\u001b[1;33m.\u001b[0m\u001b[0msleep\u001b[0m\u001b[1;33m(\u001b[0m\u001b[1;36m60\u001b[0m\u001b[1;33m)\u001b[0m\u001b[1;33m\u001b[0m\u001b[0m\n\u001b[0m\u001b[0;32m     21\u001b[0m             \u001b[1;32mcontinue\u001b[0m\u001b[1;33m\u001b[0m\u001b[0m\n\u001b[0;32m     22\u001b[0m \u001b[1;33m\u001b[0m\u001b[0m\n",
      "\u001b[1;31mNameError\u001b[0m: name 'time' is not defined"
     ]
    }
   ],
   "source": [
    "#сбор данных по всем твитам, дамп каждые 250 пользоватлей\n",
    "tweets = []\n",
    "i = 0\n",
    "while True:\n",
    "        if (i%250)==0:\n",
    "            df = pd.DataFrame(tweets)\n",
    "            OUT_FILE_PATH = \"tweets/tweets_\"+str(i)+\".csv\"\n",
    "            df.to_csv(OUT_FILE_PATH, sep=\",\", index=False, encoding=\"utf-8\", quoting=csv.QUOTE_NONNUMERIC)\n",
    "        \n",
    "        if i >= len(df_users.uid):\n",
    "            df = pd.DataFrame(tweets)\n",
    "            OUT_FILE_PATH = \"tweets_last.csv\"\n",
    "            df.to_csv(OUT_FILE_PATH, sep=\",\", index=False, encoding=\"utf-8\", quoting=csv.QUOTE_NONNUMERIC)\n",
    "            break\n",
    "        \n",
    "        try:\n",
    "            sleeptime = api.GetSleepTime('statuses/user_timeline')\n",
    "        except Exception as e:\n",
    "            print \"Sleep for 60 sec\"\n",
    "            time.sleep(60)\n",
    "            continue\n",
    "        \n",
    "        if sleeptime: time.sleep(sleeptime + 1)\n",
    "        sys.stdout.write('\\rTweets %.5f ' % (float(i)/len(df_users.uid)))\n",
    "        sys.stdout.flush()\n",
    "        \n",
    "        try:\n",
    "            user_tweets = get_user_tweets(uids[i])\n",
    "            tweets += user_tweets\n",
    "        except Exception as e:\n",
    "            print e\n",
    "        i += 1\n",
    "        continue\n"
   ]
  },
  {
   "cell_type": "markdown",
   "metadata": {},
   "source": [
    "## Разбор текста твита"
   ]
  },
  {
   "cell_type": "code",
   "execution_count": 7,
   "metadata": {
    "collapsed": true
   },
   "outputs": [],
   "source": [
    "string = \"new--york $one ;two ____twoo №___THRESADLKJL asdkaslidalkASLKD NKJLANkasnckasjdncasa ,. ,. ,/. ,/,. .,.,#123 \\\n",
    "        denilv_denilv №1023-++_+ http://asd.ru/asdijsad https://asdcx.dsacx.rqwe.sad/orasd \\\n",
    "        hello!my!dear?friend https://asd.rw\""
   ]
  },
  {
   "cell_type": "code",
   "execution_count": 8,
   "metadata": {
    "collapsed": false
   },
   "outputs": [],
   "source": [
    "def get_words(text):\n",
    "    #text = re.sub('\\w+:\\/{2}[\\d\\w-]+(\\.[\\d\\w-]+)*(?:(?:\\/[^\\s/]*))*', ' ', text)\n",
    "    text = re.sub(r'http\\S+', ' ', text)\n",
    "    text = re.sub('-', '', text)\n",
    "    text = re.sub('[^\\w]', ' ',  text)\n",
    "    text = re.sub('\\d', '', text)\n",
    "    text = re.sub('[_]', ' ', text)\n",
    "    text = text.lower()\n",
    "    return text.split()"
   ]
  },
  {
   "cell_type": "code",
   "execution_count": 9,
   "metadata": {
    "collapsed": false,
    "scrolled": true
   },
   "outputs": [
    {
     "name": "stdout",
     "output_type": "stream",
     "text": [
      "['newyork', 'one', 'two', 'twoo', 'thresadlkjl', 'asdkaslidalkaslkd', 'nkjlankasnckasjdncasa', 'denilv', 'denilv', 'hello', 'my', 'dear', 'friend']\n"
     ]
    }
   ],
   "source": [
    "print get_words(string)"
   ]
  },
  {
   "cell_type": "code",
   "execution_count": 10,
   "metadata": {
    "collapsed": true
   },
   "outputs": [],
   "source": [
    "import nltk\n",
    "from nltk.corpus import stopwords"
   ]
  },
  {
   "cell_type": "code",
   "execution_count": 11,
   "metadata": {
    "collapsed": false
   },
   "outputs": [],
   "source": [
    "# Приведение к нормальной форме\n",
    "wnl = nltk.WordNetLemmatizer()\n",
    "stop = stopwords.words('english')\n",
    "stop.append('via')\n",
    "stop.append('amp')\n",
    "stop.append('lot')\n",
    "\n",
    "def get_tokens(words):\n",
    "    \"\"\"returns list of tokens\"\"\"\n",
    "    for i in words:\n",
    "        if (i not in stop) and (len(i)>2):\n",
    "            respond.append(wnl.lemmatize(i))\n",
    "    return respond"
   ]
  },
  {
   "cell_type": "code",
   "execution_count": 12,
   "metadata": {
    "collapsed": false
   },
   "outputs": [
    {
     "name": "stdout",
     "output_type": "stream",
     "text": [
      "['different', u'word']\n"
     ]
    }
   ],
   "source": [
    "print get_tokens([\"here\", \"are\", \"different\", \"words\", \"rt\", \"a\"])"
   ]
  },
  {
   "cell_type": "code",
   "execution_count": 13,
   "metadata": {
    "collapsed": false
   },
   "outputs": [],
   "source": [
    "def get_tweet_tokens(tweet):\n",
    "    words = get_words(tweet)\n",
    "    tokens = get_tokens(words)\n",
    "    return tokens"
   ]
  },
  {
   "cell_type": "code",
   "execution_count": 14,
   "metadata": {
    "collapsed": false
   },
   "outputs": [],
   "source": [
    "def collect_users_tokens(df_users):\n",
    "    \"\"\"returns users list and list of user dicts. Each dict contains frequence of user tokens\"\"\"\n",
    "    counters = []\n",
    "    for num, uid in enumerate(df_users.uid.tolist()):\n",
    "        sys.stdout.write('\\rUsers %.5f ' % (float(num)/len(df_users)))\n",
    "        sys.stdout.flush()\n",
    "        user_counter = Counter()\n",
    "        tmp_df = df[df['user']==\"{u'id': \" + str(uid) + \"}\"]\n",
    "        for j, i in tmp_df.iterrows():\n",
    "            toks = get_tweet_tokens(i['text']) #i[7] - text of the current tweet\n",
    "            for word in toks:\n",
    "                user_counter[word] += 1\n",
    "        counters.append(user_counter)\n",
    "    sys.stdout.write('\\rUsers 1.00000')\n",
    "    return df_users.uid.tolist(), counters"
   ]
  },
  {
   "cell_type": "code",
   "execution_count": 15,
   "metadata": {
    "collapsed": true
   },
   "outputs": [],
   "source": [
    "from collections import Counter"
   ]
  },
  {
   "cell_type": "code",
   "execution_count": null,
   "metadata": {
    "collapsed": false,
    "scrolled": true
   },
   "outputs": [],
   "source": [
    "users, users_tokens = collect_users_tokens(df_users)"
   ]
  },
  {
   "cell_type": "code",
   "execution_count": 17,
   "metadata": {
    "collapsed": true
   },
   "outputs": [],
   "source": [
    "from sklearn.feature_extraction import DictVectorizer"
   ]
  },
  {
   "cell_type": "code",
   "execution_count": 18,
   "metadata": {
    "collapsed": false
   },
   "outputs": [],
   "source": [
    "v = DictVectorizer()\n",
    "vs = v.fit_transform(users_tokens)"
   ]
  },
  {
   "cell_type": "code",
   "execution_count": 19,
   "metadata": {
    "collapsed": false
   },
   "outputs": [],
   "source": [
    "import numpy as np\n",
    "np.savez(\"out_4.dat\", data=vs, users=users, users_tokens=users_tokens )"
   ]
  },
  {
   "cell_type": "code",
   "execution_count": 20,
   "metadata": {
    "collapsed": true
   },
   "outputs": [],
   "source": [
    "from wordcloud import WordCloud, STOPWORDS, ImageColorGenerator\n",
    "from scipy.misc import imread"
   ]
  },
  {
   "cell_type": "code",
   "execution_count": 21,
   "metadata": {
    "collapsed": false
   },
   "outputs": [],
   "source": [
    "def draw_tag_cloud(v, vs):\n",
    "    \"\"\"Draws tag cloud of found tokens\"\"\"\n",
    "    s = vs.sum(0).tolist()[0]\n",
    "    a = zip(v.get_feature_names(), s)\n",
    "    img = imread('usa1.png')\n",
    "    image_colors = ImageColorGenerator(img)\n",
    "    wc = WordCloud(background_color=\"black\", mask=img, stopwords=STOPWORDS, font_path='TNR.ttf')\n",
    "    wc.generate_from_frequencies(a)\n",
    "    plt.imshow(wc.recolor(color_func=image_colors))\n",
    "    plt.axis(\"off\")\n",
    "    plt.savefig('tagcloud.jpg', dpi=300)\n",
    "    plt.show()\n",
    "    return"
   ]
  },
  {
   "cell_type": "code",
   "execution_count": 22,
   "metadata": {
    "collapsed": false
   },
   "outputs": [
    {
     "data": {
      "image/png": "[encoded data removed]",
      "text/plain": [
       "<matplotlib.figure.Figure at 0x722ca828>"
      ]
     },
     "metadata": {},
     "output_type": "display_data"
    }
   ],
   "source": [
    "draw_tag_cloud(v, vs)"
   ]
  }
 ],
 "metadata": {
  "anaconda-cloud": {},
  "kernelspec": {
   "display_name": "Python [default]",
   "language": "python",
   "name": "python2"
  },
  "language_info": {
   "codemirror_mode": {
    "name": "ipython",
    "version": 2
   },
   "file_extension": ".py",
   "mimetype": "text/x-python",
   "name": "python",
   "nbconvert_exporter": "python",
   "pygments_lexer": "ipython2",
   "version": "2.7.12"
  }
 },
 "nbformat": 4,
 "nbformat_minor": 0
}
