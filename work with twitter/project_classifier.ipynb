{
 "cells": [
  {
   "cell_type": "markdown",
   "metadata": {},
   "source": [
    "# Домашнее задание 5. Линейные модели"
   ]
  },
  {
   "cell_type": "code",
   "execution_count": 1,
   "metadata": {
    "collapsed": false,
    "scrolled": true
   },
   "outputs": [
    {
     "name": "stdout",
     "output_type": "stream",
     "text": [
      "Populating the interactive namespace from numpy and matplotlib\n"
     ]
    }
   ],
   "source": [
    "import random as pr\n",
    "import numpy as np\n",
    "import pandas as pd\n",
    "import matplotlib.pylab as pl\n",
    "import sklearn.cross_validation as cv\n",
    "import sklearn.metrics as sm\n",
    "import sklearn.linear_model as lm\n",
    "from scipy.spatial.distance import cityblock\n",
    "from sklearn.ensemble import RandomForestClassifier\n",
    "import math\n",
    "import sys\n",
    "import csv\n",
    "import sklearn.naive_bayes as nb\n",
    "from sklearn.linear_model import Ridge, RidgeClassifier\n",
    "\n",
    "%pylab inline"
   ]
  },
  {
   "cell_type": "code",
   "execution_count": 2,
   "metadata": {
    "collapsed": false,
    "scrolled": false
   },
   "outputs": [],
   "source": [
    "data = np.load(\"out_4_without_rts_and_replies.dat.npz\")\n",
    "#data = np.load(\"out_4_denis.dat.npz\")\n",
    "users = data[\"users\"]\n",
    "X_dataset = data[\"data\"].reshape(1,)[0]"
   ]
  },
  {
   "cell_type": "code",
   "execution_count": 9,
   "metadata": {
    "collapsed": false
   },
   "outputs": [],
   "source": [
    "from sklearn import preprocessing\n",
    "X_all = preprocessing.normalize(X_dataset.tocsc()[:, features_counts > 100].toarray(), axis=1)\n"
   ]
  },
  {
   "cell_type": "code",
   "execution_count": 5,
   "metadata": {
    "collapsed": false,
    "scrolled": false
   },
   "outputs": [
    {
     "data": {
      "text/html": [
       "<div>\n",
       "<table border=\"1\" class=\"dataframe\">\n",
       "  <thead>\n",
       "    <tr style=\"text-align: right;\">\n",
       "      <th></th>\n",
       "      <th>uid</th>\n",
       "      <th>cat</th>\n",
       "    </tr>\n",
       "  </thead>\n",
       "  <tbody>\n",
       "    <tr>\n",
       "      <th>0</th>\n",
       "      <td>40585382</td>\n",
       "      <td>1.0</td>\n",
       "    </tr>\n",
       "    <tr>\n",
       "      <th>1</th>\n",
       "      <td>30005269</td>\n",
       "      <td>0.0</td>\n",
       "    </tr>\n",
       "    <tr>\n",
       "      <th>2</th>\n",
       "      <td>3314758074</td>\n",
       "      <td>0.0</td>\n",
       "    </tr>\n",
       "    <tr>\n",
       "      <th>3</th>\n",
       "      <td>14311688</td>\n",
       "      <td>0.0</td>\n",
       "    </tr>\n",
       "    <tr>\n",
       "      <th>4</th>\n",
       "      <td>110457801</td>\n",
       "      <td>0.0</td>\n",
       "    </tr>\n",
       "  </tbody>\n",
       "</table>\n",
       "</div>"
      ],
      "text/plain": [
       "          uid  cat\n",
       "0    40585382  1.0\n",
       "1    30005269  0.0\n",
       "2  3314758074  0.0\n",
       "3    14311688  0.0\n",
       "4   110457801  0.0"
      ]
     },
     "execution_count": 5,
     "metadata": {},
     "output_type": "execute_result"
    }
   ],
   "source": [
    "TRAINING_SET_URL = \"twitter_train.txt\"\n",
    "EXAMPLE_SET_URL = \"twitter_example.txt\"\n",
    "df_users_train = pd.read_csv(TRAINING_SET_URL, sep=\",\", header=0, names=[\"uid\", \"cat\"])\n",
    "df_users_ex = pd.read_csv(EXAMPLE_SET_URL, sep=\",\", header=0, names=[\"uid\", \"cat\"])\n",
    "df_users_ex['cat'] = None\n",
    "df_users = pd.concat([df_users_train, df_users_ex])\n",
    "df_users = df_users.reset_index(drop=True)\n",
    "df_users.head()"
   ]
  },
  {
   "cell_type": "code",
   "execution_count": 7,
   "metadata": {
    "collapsed": false,
    "scrolled": false
   },
   "outputs": [
    {
     "data": {
      "text/plain": [
       "(5000, 322133)"
      ]
     },
     "execution_count": 7,
     "metadata": {},
     "output_type": "execute_result"
    }
   ],
   "source": [
    "train_users = df_users_train['uid'].values\n",
    "ix = np.in1d(users, train_users).reshape(users.shape)\n",
    "X = X_all[np.where(ix)]\n",
    "X.shape"
   ]
  },
  {
   "cell_type": "code",
   "execution_count": 10,
   "metadata": {
    "collapsed": false,
    "scrolled": false
   },
   "outputs": [
    {
     "name": "stdout",
     "output_type": "stream",
     "text": [
      "Resulting training set: (5000x322133) feature matrix, 5000 target vector\n"
     ]
    }
   ],
   "source": [
    "Y = df_users_train['cat'].values\n",
    "print \"Resulting training set: (%dx%d) feature matrix, %d target vector\" % (X.shape[0], X.shape[1], Y.shape[0])"
   ]
  },
  {
   "cell_type": "code",
   "execution_count": 8,
   "metadata": {
    "collapsed": false,
    "scrolled": false
   },
   "outputs": [],
   "source": [
    "def draw_log_hist(x):\n",
    "    \"\"\"Draw tokens histogram in log scales\"\"\"\n",
    "    freq = np.array(((x!=0).sum(axis = 0)+1).tolist()[0])\n",
    "    ran = xrange(1, x.shape[1]+1)\n",
    "    #plt.figure(figsize=(5, 5))\n",
    "    #plt.xscale('log')\n",
    "    #plt.yscale('log')\n",
    "    #plt.scatter(ran, sorted(freq, reverse=True))\n",
    "    return freq\n",
    "\n",
    "features_counts = draw_log_hist(X)"
   ]
  },
  {
   "cell_type": "markdown",
   "metadata": {},
   "source": [
    "Проведем отбор признаков. В самом простом случае просто удаляем признаки, имеющие ненулевое значение у менее, чем 100 пользователей."
   ]
  },
  {
   "cell_type": "code",
   "execution_count": 14,
   "metadata": {
    "collapsed": false,
    "scrolled": true
   },
   "outputs": [
    {
     "data": {
      "text/plain": [
       "(5000L, 20737L)"
      ]
     },
     "execution_count": 14,
     "metadata": {},
     "output_type": "execute_result"
    }
   ],
   "source": [
    "X1 = X.tocsc()[:, features_counts > 10].toarray()\n",
    "X1.shape"
   ]
  },
  {
   "cell_type": "code",
   "execution_count": 15,
   "metadata": {
    "collapsed": false
   },
   "outputs": [
    {
     "name": "stdout",
     "output_type": "stream",
     "text": [
      "(4917, 322133)\n"
     ]
    }
   ],
   "source": [
    "ind = np.array([1 if X1[i].max()==0.0 else 0 for i in xrange(X1.shape[0])])\n",
    "a = X[ind==0]\n",
    "print a.shape"
   ]
  },
  {
   "cell_type": "code",
   "execution_count": 12,
   "metadata": {
    "collapsed": false
   },
   "outputs": [
    {
     "data": {
      "text/plain": [
       "(4917L,)"
      ]
     },
     "execution_count": 12,
     "metadata": {},
     "output_type": "execute_result"
    }
   ],
   "source": [
    "Y_wo_zeros = Y.copy()\n",
    "Y_wo_zeros = Y[ind==0]\n",
    "Y_wo_zeros.shape"
   ]
  },
  {
   "cell_type": "code",
   "execution_count": 16,
   "metadata": {
    "collapsed": false
   },
   "outputs": [],
   "source": [
    "#from sklearn import preprocessing\n",
    "#X1_norm_wo_zeros = preprocessing.normalize(a, axis=1)\n",
    "#X1_norm = preprocessing.normalize(X1, axis=1)\n",
    "X_wo_zeros = X1[ind==0]"
   ]
  },
  {
   "cell_type": "code",
   "execution_count": 18,
   "metadata": {
    "collapsed": false
   },
   "outputs": [
    {
     "data": {
      "text/plain": [
       "(4917L, 20737L)"
      ]
     },
     "execution_count": 18,
     "metadata": {},
     "output_type": "execute_result"
    }
   ],
   "source": [
    "X_wo_zeros.shape\n"
   ]
  },
  {
   "cell_type": "code",
   "execution_count": null,
   "metadata": {
    "collapsed": false
   },
   "outputs": [],
   "source": [
    "X_all.shape"
   ]
  },
  {
   "cell_type": "code",
   "execution_count": 21,
   "metadata": {
    "collapsed": true
   },
   "outputs": [],
   "source": [
    "def fit_and_predict(model, x_train, x_test, y_train, y_test ):\n",
    "    fit = model.fit(x_train, y_train)\n",
    "    y_pred = fit.predict(x_test)\n",
    "    clusters = []\n",
    "    #for i in y_pred:\n",
    "    #    if i>=0.5:\n",
    "    #        clusters.append(1)\n",
    "    #    else:\n",
    "    #        clusters.append(0)\n",
    "    return sm.roc_auc_score(y_test, y_pred)"
   ]
  },
  {
   "cell_type": "code",
   "execution_count": 19,
   "metadata": {
    "collapsed": false
   },
   "outputs": [
    {
     "name": "stdout",
     "output_type": "stream",
     "text": [
      "0.565519572117\n"
     ]
    }
   ],
   "source": [
    "x_train, x_test, y_train, y_test = cv.train_test_split(X_wo_zeros, Y_wo_zeros, test_size=0.3)\n",
    "model = Ridge(alpha=50.0, fit_intercept=True, normalize=False, solver='sparse_cg')\n",
    "fit = model.fit(x_train, y_train)\n",
    "y_pred = fit.predict(x_test)\n",
    "print sm.roc_auc_score(y_test, y_pred)"
   ]
  },
  {
   "cell_type": "code",
   "execution_count": null,
   "metadata": {
    "collapsed": false
   },
   "outputs": [],
   "source": [
    "from sklearn.cross_validation import KFold\n",
    "from sklearn.feature_selection import RFECV\n",
    "rfecv = RFECV(estimator=model, step=50, cv=KFold(len(Y), 2), scoring='roc_auc')\n",
    "rfecv.fit(X1_norm, Y)\n",
    "print rfecv"
   ]
  },
  {
   "cell_type": "code",
   "execution_count": null,
   "metadata": {
    "collapsed": false
   },
   "outputs": [
    {
     "name": "stdout",
     "output_type": "stream",
     "text": [
      "C = 0.005; Acc = 0.607\n"
     ]
    }
   ],
   "source": [
    "C = [0.005, 0.01, 0.015, 0.017, 0.0195, 0.02, 0.023, 0.025, 0.5, 0.7, 0.9, 1.0, 10.0, 50.0, 100.0, 1000.0, 10000.0, 50000.0, \\\n",
    "     100000.0, 500000.0, 750000.0, 1000000.0]\n",
    "results = []\n",
    "x_train, x_test, y_train, y_test = cv.train_test_split(X_wo_zeros, Y_wo_zeros, test_size=0.3)#X1_norm_wo_zeros\n",
    "for i, c in enumerate(C):\n",
    "    model = lm.LogisticRegression(tol=0.00001, C=c, penalty='l2', fit_intercept=True, solver='newton-cg')\n",
    "    #model = Ridge(alpha=c, fit_intercept=True, normalize=False, solver='sag')\n",
    "    acc = fit_and_predict(model,  x_train, x_test, y_train, y_test)\n",
    "    #if acc>0.65 :\n",
    "    print \"C = %.3f; Acc = %.3f\" % (c, acc)\n",
    "    #results.append(acc)\n",
    "#freqs[np.argmax(results)]+=1\n",
    "#print \"Maximum Acc = %.3f by C = %.3f\" % (max(results), C[np.argmax(results)])\n",
    "#print freqs"
   ]
  },
  {
   "cell_type": "code",
   "execution_count": null,
   "metadata": {
    "collapsed": false,
    "scrolled": true
   },
   "outputs": [],
   "source": [
    "tpr, fpr, roc_auc = classify(X1, Y, 0.3, 1.0)\n",
    "\n",
    "print \"Area under the ROC curve : %f\" % roc_auc\n",
    "\"\"\"\n",
    "def plot_roc_curve(tpr, fpr, roc_auc): \n",
    "    \"\"\"Plot ROC curve\"\"\"\n",
    "    # Plot ROC curve\n",
    "    plt.figure(figsize=(4,4))\n",
    "    plt.fill_between(fpr, tpr, alpha=0.5)\n",
    "    plt.plot([0, 1], [0, 1])\n",
    "    plt.xlim([0.0, 1.0])\n",
    "    plt.ylim([0.0, 1.0])\n",
    "    plt.xlabel('FPR')\n",
    "    plt.ylabel('TPR')\n",
    "    \n",
    "plot_roc_curve(tpr, fpr, roc_auc)\n",
    "\"\"\""
   ]
  },
  {
   "cell_type": "code",
   "execution_count": null,
   "metadata": {
    "collapsed": false
   },
   "outputs": [],
   "source": [
    "ex_users = df_users_ex['uid'].values\n",
    "ix_ex = np.in1d(users, ex_users).reshape(users.shape)\n",
    "X_ex = X_all[np.where(ix_ex)]"
   ]
  },
  {
   "cell_type": "code",
   "execution_count": null,
   "metadata": {
    "collapsed": false
   },
   "outputs": [],
   "source": [
    "X_ex.shape"
   ]
  },
  {
   "cell_type": "code",
   "execution_count": null,
   "metadata": {
    "collapsed": true
   },
   "outputs": [],
   "source": [
    "X1_ex = X_ex.tocsc()[:, features_counts > 100].toarray()"
   ]
  },
  {
   "cell_type": "code",
   "execution_count": null,
   "metadata": {
    "collapsed": false
   },
   "outputs": [],
   "source": [
    "X1_ex.shape"
   ]
  },
  {
   "cell_type": "code",
   "execution_count": null,
   "metadata": {
    "collapsed": false
   },
   "outputs": [],
   "source": [
    "#X1_ex_norm = preprocessing.normalize(X1_ex, axis=1)\n",
    "X1_ex_norm.shape"
   ]
  },
  {
   "cell_type": "code",
   "execution_count": null,
   "metadata": {
    "collapsed": false
   },
   "outputs": [],
   "source": [
    "#model = lm.LogisticRegression(tol=0.0001, C=0.9, penalty='l1', fit_intercept=True, solver='liblinear')\n",
    "#lm.LogisticRegression(tol=0.0001, C=0.017, penalty='l1')\n",
    "#model = Ridge(alpha=50.0, fit_intercept=True, normalize=False, solver='sparse_cg')\n",
    "model = lm.LogisticRegression(tol=0.00001, C=0.5, penalty='l2', fit_intercept=True, solver='newton-cg')\n",
    "fit = model.fit(X_wo_zeros, Y_wo_zeros)"
   ]
  },
  {
   "cell_type": "code",
   "execution_count": null,
   "metadata": {
    "collapsed": false
   },
   "outputs": [],
   "source": [
    "y_prob = fit.predict(X_ex)\n",
    "print y_prob"
   ]
  },
  {
   "cell_type": "code",
   "execution_count": null,
   "metadata": {
    "collapsed": false
   },
   "outputs": [],
   "source": [
    "clusters = []\n",
    "for i in y_prob:\n",
    "    if i>=0.5:\n",
    "        clusters.append(1)\n",
    "    else:\n",
    "        clusters.append(0)"
   ]
  },
  {
   "cell_type": "code",
   "execution_count": null,
   "metadata": {
    "collapsed": false
   },
   "outputs": [],
   "source": [
    "df_users_ex['cat'] = clusters\n",
    "df_users_ex.head()"
   ]
  },
  {
   "cell_type": "code",
   "execution_count": null,
   "metadata": {
    "collapsed": false
   },
   "outputs": [],
   "source": [
    "df_users_ex.to_csv(\"respond.csv\", sep=\",\", index=False, encoding=\"utf-8\", quoting=csv.QUOTE_NONNUMERIC)"
   ]
  },
  {
   "cell_type": "code",
   "execution_count": null,
   "metadata": {
    "collapsed": true
   },
   "outputs": [],
   "source": [
    "#Попробовать добавить оценку эмоционального окраса твитов"
   ]
  }
 ],
 "metadata": {
  "anaconda-cloud": {},
  "kernelspec": {
   "display_name": "Python [default]",
   "language": "python",
   "name": "python2"
  },
  "language_info": {
   "codemirror_mode": {
    "name": "ipython",
    "version": 2
   },
   "file_extension": ".py",
   "mimetype": "text/x-python",
   "name": "python",
   "nbconvert_exporter": "python",
   "pygments_lexer": "ipython2",
   "version": "2.7.12"
  }
 },
 "nbformat": 4,
 "nbformat_minor": 0
}
