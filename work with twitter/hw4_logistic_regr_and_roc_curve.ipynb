{
 "cells": [
  {
   "cell_type": "markdown",
   "metadata": {},
   "source": [
    "# Линейные модели"
   ]
  },
  {
   "cell_type": "code",
   "execution_count": 1,
   "metadata": {
    "collapsed": false,
    "scrolled": true
   },
   "outputs": [
    {
     "name": "stdout",
     "output_type": "stream",
     "text": [
      "Populating the interactive namespace from numpy and matplotlib\n"
     ]
    }
   ],
   "source": [
    "import random as pr\n",
    "import numpy as np\n",
    "import pandas as pd\n",
    "import matplotlib.pylab as pl\n",
    "import sklearn.cross_validation as cv\n",
    "import sklearn.metrics as sm\n",
    "from scipy.spatial.distance import cityblock\n",
    "import math\n",
    "import sys\n",
    "\n",
    "# Plotting config\n",
    "%pylab inline"
   ]
  },
  {
   "cell_type": "code",
   "execution_count": 4,
   "metadata": {
    "collapsed": false,
    "scrolled": false
   },
   "outputs": [],
   "source": [
    "data = np.load(\"out_4_without_rts_and_replies.dat.npz\")\n",
    "users = data[\"users\"]\n",
    "X_dataset = data[\"data\"].reshape(1,)[0]"
   ]
  },
  {
   "cell_type": "code",
   "execution_count": 5,
   "metadata": {
    "collapsed": false,
    "scrolled": false
   },
   "outputs": [
    {
     "data": {
      "text/html": [
       "<div>\n",
       "<table border=\"1\" class=\"dataframe\">\n",
       "  <thead>\n",
       "    <tr style=\"text-align: right;\">\n",
       "      <th></th>\n",
       "      <th>uid</th>\n",
       "      <th>cat</th>\n",
       "    </tr>\n",
       "  </thead>\n",
       "  <tbody>\n",
       "    <tr>\n",
       "      <th>0</th>\n",
       "      <td>40585382</td>\n",
       "      <td>1.0</td>\n",
       "    </tr>\n",
       "    <tr>\n",
       "      <th>1</th>\n",
       "      <td>30005269</td>\n",
       "      <td>0.0</td>\n",
       "    </tr>\n",
       "    <tr>\n",
       "      <th>2</th>\n",
       "      <td>3314758074</td>\n",
       "      <td>0.0</td>\n",
       "    </tr>\n",
       "    <tr>\n",
       "      <th>3</th>\n",
       "      <td>14311688</td>\n",
       "      <td>0.0</td>\n",
       "    </tr>\n",
       "    <tr>\n",
       "      <th>4</th>\n",
       "      <td>110457801</td>\n",
       "      <td>0.0</td>\n",
       "    </tr>\n",
       "  </tbody>\n",
       "</table>\n",
       "</div>"
      ],
      "text/plain": [
       "          uid  cat\n",
       "0    40585382  1.0\n",
       "1    30005269  0.0\n",
       "2  3314758074  0.0\n",
       "3    14311688  0.0\n",
       "4   110457801  0.0"
      ]
     },
     "execution_count": 5,
     "metadata": {},
     "output_type": "execute_result"
    }
   ],
   "source": [
    "TRAINING_SET_URL = \"twitter_train.txt\"\n",
    "EXAMPLE_SET_URL = \"twitter_example.txt\"\n",
    "df_users_train = pd.read_csv(TRAINING_SET_URL, sep=\",\", header=0, names=[\"uid\", \"cat\"])\n",
    "df_users_ex = pd.read_csv(EXAMPLE_SET_URL, sep=\",\", header=0, names=[\"uid\", \"cat\"])\n",
    "df_users_ex['cat'] = None\n",
    "df_users = pd.concat([df_users_train, df_users_ex])\n",
    "df_users = df_users.reset_index(drop=True)\n",
    "df_users.head()"
   ]
  },
  {
   "cell_type": "markdown",
   "metadata": {},
   "source": [
    "Модель строим для пользователей из twitter_train, нужно выбрать этих пользователей из матрицы из 4 ДЗ:"
   ]
  },
  {
   "cell_type": "code",
   "execution_count": 6,
   "metadata": {
    "collapsed": false,
    "scrolled": false
   },
   "outputs": [],
   "source": [
    "train_users = df_users_train['uid'].values\n",
    "ix = np.in1d(users, train_users).reshape(users.shape)\n",
    "X = X_dataset[np.where(ix)]"
   ]
  },
  {
   "cell_type": "markdown",
   "metadata": {},
   "source": [
    "Формируем целевую переменную: Делаем join списка пользователей из ДЗ4 с обучающей выборкой."
   ]
  },
  {
   "cell_type": "code",
   "execution_count": 7,
   "metadata": {
    "collapsed": false,
    "scrolled": false
   },
   "outputs": [
    {
     "name": "stdout",
     "output_type": "stream",
     "text": [
      "Resulting training set: (5000x322133) feature matrix, 5000 target vector\n"
     ]
    }
   ],
   "source": [
    "Y = df_users_train['cat'].values\n",
    "print \"Resulting training set: (%dx%d) feature matrix, %d target vector\" % (X.shape[0], X.shape[1], Y.shape[0])"
   ]
  },
  {
   "cell_type": "code",
   "execution_count": 19,
   "metadata": {
    "collapsed": false,
    "scrolled": false
   },
   "outputs": [
    {
     "data": {
      "image/png": "[encoded data removed]",
      "text/plain": [
       "<matplotlib.figure.Figure at 0xe13a240>"
      ]
     },
     "metadata": {},
     "output_type": "display_data"
    }
   ],
   "source": [
    "def draw_log_hist(x):\n",
    "    \"\"\"Draw tokens histogram in log scales\"\"\"\n",
    "    # Your code here\n",
    "    freq = np.array(((x!=0).sum(axis = 0)+1).tolist()[0])\n",
    "    ran = xrange(1, x.shape[1]+1)\n",
    "    plt.figure(figsize=(5, 5))\n",
    "    #plt.xscale('log')\n",
    "    #plt.yscale('log')\n",
    "    plt.scatter(ran, sorted(freq, reverse=True))\n",
    "    return freq\n",
    "\n",
    "features_counts = draw_log_hist(X)"
   ]
  },
  {
   "cell_type": "code",
   "execution_count": 9,
   "metadata": {
    "collapsed": false,
    "scrolled": true
   },
   "outputs": [],
   "source": [
    "X1 = X.tocsc()[:, features_counts > 100].toarray()"
   ]
  },
  {
   "cell_type": "code",
   "execution_count": 10,
   "metadata": {
    "collapsed": false,
    "scrolled": true
   },
   "outputs": [
    {
     "name": "stdout",
     "output_type": "stream",
     "text": [
      "My homework 5 algorithm is: Logistic regression with L1 regularization optimized by stochastic gradient descent\n"
     ]
    }
   ],
   "source": [
    "USER_NAME = \"i.denisov\"\n",
    "OPTIMIZATION_ALGORITHMS = [\"stochastic gradient descent\", \"Newton method\"]\n",
    "REGULARIZATIONS = [\"L1\", \"L2\"]\n",
    "\n",
    "print \"My algorithm is: Logistic regression with %s regularization optimized by %s\" % (\n",
    "    REGULARIZATIONS[hash(USER_NAME) % 2],\n",
    "    OPTIMIZATION_ALGORITHMS[hash(USER_NAME[::-1]) % 2]\n",
    ")"
   ]
  },
  {
   "cell_type": "code",
   "execution_count": 11,
   "metadata": {
    "collapsed": false,
    "scrolled": true
   },
   "outputs": [],
   "source": [
    "class LogisticRegression():\n",
    "\n",
    "    def __init__(self, lambda_par = 1.0, alpha_par = 1.0, tol = 0.00001, n_iters = 20, output = False, regularization = True):\n",
    "        self.tol = tol\n",
    "        self.alpha_par = float(alpha_par) if alpha_par >= 0 else 1.0\n",
    "        self.lambda_par = lambda_par if lambda_par >= 0 else 1.0\n",
    "        self.n_iters = n_iters\n",
    "        self.output = output\n",
    "        self.regularization = regularization\n",
    "    \n",
    "    def fit(self, X, Y=None):        \n",
    "        def sigmoid(z): #h(z)\n",
    "            result = 1/(1+np.exp(-z))\n",
    "            return result\n",
    "        \n",
    "        def cost_function(data, theta, clusters):\n",
    "            m, n = data.shape\n",
    "            if (self.regularization):\n",
    "                regularization = (self.lambda_par / (2.0 * m)) * norm(theta[1:])\n",
    "                #print norm(regularization)\n",
    "            else:\n",
    "                regularization = 0.0\n",
    "            cost = (-1.0 / m) * np.sum((np.log(sigmoid(np.dot(data, theta))) * clusters) + \\\n",
    "                    (np.log(1.0 - sigmoid(np.dot(data, theta))) * (1.0 - clusters)))\n",
    "            #J = (-1.0/ m) * ( np.sum( np.log(sigmoid( np.dot(data, theta))) * clusters + \\\n",
    "            #                    ( np.log ( 1 - sigmoid(np.dot(data, theta)) ) * ( 1 - clusters ) )))\n",
    "            #add regularization\n",
    "            cost = cost + regularization\n",
    "            return cost\n",
    "        \n",
    "        def norm(vector):\n",
    "            #L1 norm\n",
    "            return np.sum(np.abs(vector))\n",
    "\n",
    "        def stop_condition(old_theta, theta):\n",
    "            if (norm(old_theta - theta) <= self.tol):\n",
    "                return True\n",
    "            else:\n",
    "                return False\n",
    "        \"\"\"\n",
    "        def new_theta(data, theta, clusters):\n",
    "            m, n = data.shape\n",
    "            #add regularization\n",
    "            if self.regularization:\n",
    "                lambda_par = self.lambda_par\n",
    "            else:\n",
    "                lambda_par = 0.0\n",
    "            \n",
    "            grad = np.zeros(n)\n",
    "            A = (sigmoid(np.dot(data, theta)) - clusters )\n",
    "            B =  data[:,0].reshape((data.shape[0],1))\n",
    "            grad[0] = (self.alpha_par/m) * np.sum(A*B)\n",
    "            for j in xrange(1, n):\n",
    "                grad[j] = (self.alpha_par / m) * (np.sum(A * data[:,j]) + lambda_par * theta[j] / m)\n",
    "            new_theta = theta - grad\n",
    "            return new_theta\n",
    "        \"\"\"\n",
    "        \n",
    "        \"\"\"\n",
    "        def new_theta(data, theta, clusters):\n",
    "            m,n = data.shape\n",
    "            regularized = self.regularization\n",
    "            if(regularized == True):\n",
    "                lambda_par = self.lambda_par\n",
    "            else:\n",
    "                lambda_par = 0\n",
    "            grad = np.zeros(n)\n",
    "            A = sigmoid(np.dot(data, theta)) - clusters\n",
    "            B =  data[:,0]\n",
    "            grad[0] = (1.0 / m) * np.sum(A*B)\n",
    "\n",
    "            A = sigmoid(np.dot(data,theta)) - clusters        \n",
    "            for i in range(1, len(grad)):\n",
    "                B = data[:,i]\n",
    "                grad[i] = (1.0 / m) * np.sum(A*B) + ((lambda_par/m)*theta[i])\n",
    "            new_theta = theta - (np.dot(self.alpha_par / m , grad))\n",
    "            return new_theta\n",
    "        \"\"\"\n",
    "        def new_theta(data, theta, clusters):\n",
    "            m,n = data.shape\n",
    "            regularized = self.regularization\n",
    "            if(regularized == True):\n",
    "                lambda_par = self.lambda_par\n",
    "            else:\n",
    "                lambda_par = 0\n",
    "            grad = np.zeros(n)\n",
    "            A = sigmoid(np.dot(data, theta)) - clusters\n",
    "            grad = (1.0 / m) * (data.T.dot(A) + lambda_par * theta)\n",
    "            B =  data[:,0]\n",
    "            grad[0] = (1.0 / m) * np.sum(A*B)\n",
    "            new_theta = theta - (np.dot(self.alpha_par / m , grad))\n",
    "            return new_theta\n",
    "        \n",
    "        m, n = X.shape\n",
    "        #add ones column at beginning for theta_0\n",
    "        tmp = np.ones((m,1))\n",
    "        data = np.append(tmp, X, axis=1)        \n",
    "        m, n = data.shape\n",
    "        clusters = Y\n",
    "        theta = np.zeros(n)\n",
    "        old_theta = np.zeros(n)\n",
    "        for i in xrange(self.n_iters):\n",
    "            old_theta = theta\n",
    "            #theta = new_theta(data, theta, clusters)\n",
    "            theta = new_theta(data, theta, clusters)\n",
    "            if self.output:\n",
    "                print \"Cost\", cost_function(data, theta, clusters), \"Delta_theta\",  norm(old_theta - theta)\n",
    "            if stop_condition(old_theta, theta):\n",
    "                break\n",
    "        self.theta = theta\n",
    "        print \"Total: Cost\", cost_function(data, theta, clusters), \"Delta_theta\",  norm(old_theta - theta)\n",
    "        return self\n",
    "        \n",
    "    \n",
    "    def predict_proba(self, X):\n",
    "        def sigmoid(z): #h(z)\n",
    "            result = 1.0 /(1.0+np.exp(-z))\n",
    "            return result\n",
    "        \n",
    "        m, n = X.shape\n",
    "        #add ones column at beginning for theta_0\n",
    "        tmp = np.ones((m,1))\n",
    "        data = np.append(tmp, X, axis=1)        \n",
    "        m, n = data.shape\n",
    "        result = sigmoid(np.dot(data, self.theta))\n",
    "        return result"
   ]
  },
  {
   "cell_type": "markdown",
   "metadata": {},
   "source": [
    "Реализуем метрику качества, используемую в соревновании: площадь под ROC кривой"
   ]
  },
  {
   "cell_type": "code",
   "execution_count": 12,
   "metadata": {
    "collapsed": false,
    "scrolled": true
   },
   "outputs": [],
   "source": [
    "def auroc(y_prob, y_true):\n",
    "    pos_am = (y_true == 1).sum()\n",
    "    neg_am = (y_true != 1).sum()\n",
    "    #descending sort y_prob and y_true  \n",
    "    descending_indexes = np.argsort(y_prob)[::-1]\n",
    "    y_true_desc = y_true[descending_indexes]\n",
    "    y_prob_desc = y_prob[descending_indexes]\n",
    "\n",
    "    fp = 0\n",
    "    tp = 0\n",
    "    fpr = []\n",
    "    tpr = []\n",
    "    fprev = -inf\n",
    "    auc = 0\n",
    "    for i in xrange(len(y_true)):\n",
    "        if y_true_desc[i] == 0:\n",
    "            if i==0:\n",
    "                fpr.append(1.0/neg_am)\n",
    "                tpr.append(0.0)\n",
    "            else:\n",
    "                fpr.append(fpr[-1] + 1.0/neg_am)\n",
    "                tpr.append(tpr[-1])\n",
    "            auc = auc + 1.0 / neg_am * tpr[-1]\n",
    "        else:\n",
    "            if i==0:\n",
    "                fpr.append(0.0)\n",
    "                tpr.append(1.0/pos_am)\n",
    "            else:\n",
    "                fpr.append(fpr[-1])\n",
    "                tpr.append(tpr[-1]+ 1.0/pos_am)\n",
    "    return tpr, fpr, auc"
   ]
  },
  {
   "cell_type": "code",
   "execution_count": 13,
   "metadata": {
    "collapsed": true
   },
   "outputs": [],
   "source": [
    "def accuracy(y_prob, y_test):\n",
    "    test = y_test == 1\n",
    "    #print len(test)\n",
    "    prob = y_prob >= 0.5\n",
    "    #print len(prob)\n",
    "    pos_result = np.array(test == prob)\n",
    "    #print len(pos_result)\n",
    "    return float(pos_result[pos_result == True].sum()) / len(y_test)"
   ]
  },
  {
   "cell_type": "code",
   "execution_count": 14,
   "metadata": {
    "collapsed": false,
    "scrolled": false
   },
   "outputs": [
    {
     "name": "stdout",
     "output_type": "stream",
     "text": [
      "################ Iteration №0; C = 0.001000 ################\n",
      "Fold №1 of 5\n",
      "Total: Cost 0.693032077011 Delta_theta 7.38237537931e-06\n",
      "Accuracy 0.665\n",
      "AUC 0.715623862131\n",
      "Fold №2 of 5\n",
      "Total: Cost 0.693037046815 Delta_theta 7.58360303359e-06\n",
      "Accuracy 0.637\n",
      "AUC 0.706926827707\n",
      "Fold №3 of 5\n",
      "Total: Cost 0.693026706687 Delta_theta 7.64969827882e-06\n",
      "Accuracy 0.642\n",
      "AUC 0.682590921455\n",
      "Fold №4 of 5\n",
      "Total: Cost 0.693027344034 Delta_theta 7.78887865712e-06\n",
      "Accuracy 0.622\n",
      "AUC 0.690625563007\n",
      "Fold №5 of 5\n",
      "Total: Cost 0.69302484639 Delta_theta 7.74734655675e-06\n",
      "Accuracy 0.588\n",
      "AUC 0.667831454063\n",
      "Mean: [0.69271972567260831]\n",
      "################ Iteration №1; C = 0.010000 ################\n",
      "Fold №1 of 5\n",
      "Total: Cost 0.692014373808 Delta_theta 7.32943885332e-05\n",
      "Accuracy 0.671\n",
      "AUC 0.715699886763\n",
      "Fold №2 of 5\n",
      "Total: Cost 0.692062746633 Delta_theta 7.53805973853e-05\n",
      "Accuracy 0.637\n",
      "AUC 0.707170828683\n",
      "Fold №3 of 5\n"
     ]
    },
    {
     "ename": "KeyboardInterrupt",
     "evalue": "",
     "output_type": "error",
     "traceback": [
      "\u001b[1;31m---------------------------------------------------------------------------\u001b[0m",
      "\u001b[1;31mKeyboardInterrupt\u001b[0m                         Traceback (most recent call last)",
      "\u001b[1;32m<ipython-input-14-08d8ca043438>\u001b[0m in \u001b[0;36m<module>\u001b[1;34m()\u001b[0m\n\u001b[0;32m     21\u001b[0m     \u001b[1;32mreturn\u001b[0m \u001b[0mresults\u001b[0m\u001b[1;33m.\u001b[0m\u001b[0mindex\u001b[0m\u001b[1;33m(\u001b[0m\u001b[0mmax\u001b[0m\u001b[1;33m(\u001b[0m\u001b[0mresults\u001b[0m\u001b[1;33m)\u001b[0m\u001b[1;33m)\u001b[0m\u001b[1;33m\u001b[0m\u001b[0m\n\u001b[0;32m     22\u001b[0m \u001b[1;33m\u001b[0m\u001b[0m\n\u001b[1;32m---> 23\u001b[1;33m \u001b[0mindex\u001b[0m \u001b[1;33m=\u001b[0m \u001b[0mselect_reg_parameter\u001b[0m\u001b[1;33m(\u001b[0m\u001b[0mC\u001b[0m\u001b[1;33m,\u001b[0m \u001b[0mX1\u001b[0m\u001b[1;33m,\u001b[0m \u001b[0mY\u001b[0m\u001b[1;33m)\u001b[0m\u001b[1;33m\u001b[0m\u001b[0m\n\u001b[0m\u001b[0;32m     24\u001b[0m \u001b[1;32mprint\u001b[0m \u001b[0mindex\u001b[0m\u001b[1;33m\u001b[0m\u001b[0m\n",
      "\u001b[1;32m<ipython-input-14-08d8ca043438>\u001b[0m in \u001b[0;36mselect_reg_parameter\u001b[1;34m(C, X, Y)\u001b[0m\n\u001b[0;32m     10\u001b[0m             \u001b[1;32mprint\u001b[0m \u001b[1;34m\"Fold №%d of %d\"\u001b[0m \u001b[1;33m%\u001b[0m \u001b[1;33m(\u001b[0m\u001b[0mj\u001b[0m\u001b[1;33m+\u001b[0m\u001b[1;36m1\u001b[0m\u001b[1;33m,\u001b[0m \u001b[0mlen\u001b[0m\u001b[1;33m(\u001b[0m\u001b[0mkfolds\u001b[0m\u001b[1;33m)\u001b[0m\u001b[1;33m)\u001b[0m\u001b[1;33m\u001b[0m\u001b[0m\n\u001b[0;32m     11\u001b[0m             \u001b[0mr\u001b[0m \u001b[1;33m=\u001b[0m \u001b[0mLogisticRegression\u001b[0m\u001b[1;33m(\u001b[0m\u001b[0mlambda_par\u001b[0m \u001b[1;33m=\u001b[0m \u001b[1;36m1.0\u001b[0m\u001b[1;33m,\u001b[0m \u001b[0mn_iters\u001b[0m\u001b[1;33m=\u001b[0m\u001b[1;36m100\u001b[0m\u001b[1;33m,\u001b[0m \u001b[0malpha_par\u001b[0m \u001b[1;33m=\u001b[0m \u001b[0mc\u001b[0m\u001b[1;33m,\u001b[0m \u001b[0moutput\u001b[0m\u001b[1;33m=\u001b[0m\u001b[0mFalse\u001b[0m\u001b[1;33m,\u001b[0m \u001b[0mtol\u001b[0m\u001b[1;33m=\u001b[0m\u001b[1;36m0.0000001\u001b[0m\u001b[1;33m)\u001b[0m\u001b[1;33m\u001b[0m\u001b[0m\n\u001b[1;32m---> 12\u001b[1;33m             \u001b[0mr\u001b[0m\u001b[1;33m.\u001b[0m\u001b[0mfit\u001b[0m\u001b[1;33m(\u001b[0m\u001b[0mX\u001b[0m\u001b[1;33m[\u001b[0m\u001b[0mtrain_index\u001b[0m\u001b[1;33m]\u001b[0m\u001b[1;33m,\u001b[0m\u001b[0mY\u001b[0m\u001b[1;33m[\u001b[0m\u001b[0mtrain_index\u001b[0m\u001b[1;33m]\u001b[0m\u001b[1;33m)\u001b[0m\u001b[1;33m\u001b[0m\u001b[0m\n\u001b[0m\u001b[0;32m     13\u001b[0m             \u001b[0my_prob\u001b[0m \u001b[1;33m=\u001b[0m \u001b[0mr\u001b[0m\u001b[1;33m.\u001b[0m\u001b[0mpredict_proba\u001b[0m\u001b[1;33m(\u001b[0m\u001b[0mX\u001b[0m\u001b[1;33m[\u001b[0m\u001b[0mtest_index\u001b[0m\u001b[1;33m]\u001b[0m\u001b[1;33m)\u001b[0m\u001b[1;33m\u001b[0m\u001b[0m\n\u001b[0;32m     14\u001b[0m             \u001b[0mcurr_auc\u001b[0m \u001b[1;33m=\u001b[0m \u001b[0mauroc\u001b[0m\u001b[1;33m(\u001b[0m\u001b[0my_prob\u001b[0m\u001b[1;33m,\u001b[0m \u001b[0mY\u001b[0m\u001b[1;33m[\u001b[0m\u001b[0mtest_index\u001b[0m\u001b[1;33m]\u001b[0m\u001b[1;33m)\u001b[0m\u001b[1;33m[\u001b[0m\u001b[1;36m2\u001b[0m\u001b[1;33m]\u001b[0m\u001b[1;33m\u001b[0m\u001b[0m\n",
      "\u001b[1;32m<ipython-input-11-a94889a0a5a0>\u001b[0m in \u001b[0;36mfit\u001b[1;34m(self, X, Y)\u001b[0m\n\u001b[0;32m    102\u001b[0m             \u001b[0mold_theta\u001b[0m \u001b[1;33m=\u001b[0m \u001b[0mtheta\u001b[0m\u001b[1;33m\u001b[0m\u001b[0m\n\u001b[0;32m    103\u001b[0m             \u001b[1;31m#theta = new_theta(data, theta, clusters)\u001b[0m\u001b[1;33m\u001b[0m\u001b[1;33m\u001b[0m\u001b[0m\n\u001b[1;32m--> 104\u001b[1;33m             \u001b[0mtheta\u001b[0m \u001b[1;33m=\u001b[0m \u001b[0mnew_theta\u001b[0m\u001b[1;33m(\u001b[0m\u001b[0mdata\u001b[0m\u001b[1;33m,\u001b[0m \u001b[0mtheta\u001b[0m\u001b[1;33m,\u001b[0m \u001b[0mclusters\u001b[0m\u001b[1;33m)\u001b[0m\u001b[1;33m\u001b[0m\u001b[0m\n\u001b[0m\u001b[0;32m    105\u001b[0m             \u001b[1;32mif\u001b[0m \u001b[0mself\u001b[0m\u001b[1;33m.\u001b[0m\u001b[0moutput\u001b[0m\u001b[1;33m:\u001b[0m\u001b[1;33m\u001b[0m\u001b[0m\n\u001b[0;32m    106\u001b[0m                 \u001b[1;32mprint\u001b[0m \u001b[1;34m\"Cost\"\u001b[0m\u001b[1;33m,\u001b[0m \u001b[0mcost_function\u001b[0m\u001b[1;33m(\u001b[0m\u001b[0mdata\u001b[0m\u001b[1;33m,\u001b[0m \u001b[0mtheta\u001b[0m\u001b[1;33m,\u001b[0m \u001b[0mclusters\u001b[0m\u001b[1;33m)\u001b[0m\u001b[1;33m,\u001b[0m \u001b[1;34m\"Delta_theta\"\u001b[0m\u001b[1;33m,\u001b[0m  \u001b[0mnorm\u001b[0m\u001b[1;33m(\u001b[0m\u001b[0mold_theta\u001b[0m \u001b[1;33m-\u001b[0m \u001b[0mtheta\u001b[0m\u001b[1;33m)\u001b[0m\u001b[1;33m\u001b[0m\u001b[0m\n",
      "\u001b[1;32m<ipython-input-11-a94889a0a5a0>\u001b[0m in \u001b[0;36mnew_theta\u001b[1;34m(data, theta, clusters)\u001b[0m\n\u001b[0;32m     85\u001b[0m             \u001b[0mgrad\u001b[0m \u001b[1;33m=\u001b[0m \u001b[0mnp\u001b[0m\u001b[1;33m.\u001b[0m\u001b[0mzeros\u001b[0m\u001b[1;33m(\u001b[0m\u001b[0mn\u001b[0m\u001b[1;33m)\u001b[0m\u001b[1;33m\u001b[0m\u001b[0m\n\u001b[0;32m     86\u001b[0m             \u001b[0mA\u001b[0m \u001b[1;33m=\u001b[0m \u001b[0msigmoid\u001b[0m\u001b[1;33m(\u001b[0m\u001b[0mnp\u001b[0m\u001b[1;33m.\u001b[0m\u001b[0mdot\u001b[0m\u001b[1;33m(\u001b[0m\u001b[0mdata\u001b[0m\u001b[1;33m,\u001b[0m \u001b[0mtheta\u001b[0m\u001b[1;33m)\u001b[0m\u001b[1;33m)\u001b[0m \u001b[1;33m-\u001b[0m \u001b[0mclusters\u001b[0m\u001b[1;33m\u001b[0m\u001b[0m\n\u001b[1;32m---> 87\u001b[1;33m             \u001b[0mgrad\u001b[0m \u001b[1;33m=\u001b[0m \u001b[1;33m(\u001b[0m\u001b[1;36m1.0\u001b[0m \u001b[1;33m/\u001b[0m \u001b[0mm\u001b[0m\u001b[1;33m)\u001b[0m \u001b[1;33m*\u001b[0m \u001b[1;33m(\u001b[0m\u001b[0mdata\u001b[0m\u001b[1;33m.\u001b[0m\u001b[0mT\u001b[0m\u001b[1;33m.\u001b[0m\u001b[0mdot\u001b[0m\u001b[1;33m(\u001b[0m\u001b[0mA\u001b[0m\u001b[1;33m)\u001b[0m \u001b[1;33m+\u001b[0m \u001b[0mlambda_par\u001b[0m \u001b[1;33m*\u001b[0m \u001b[0mtheta\u001b[0m\u001b[1;33m)\u001b[0m\u001b[1;33m\u001b[0m\u001b[0m\n\u001b[0m\u001b[0;32m     88\u001b[0m             \u001b[0mB\u001b[0m \u001b[1;33m=\u001b[0m  \u001b[0mdata\u001b[0m\u001b[1;33m[\u001b[0m\u001b[1;33m:\u001b[0m\u001b[1;33m,\u001b[0m\u001b[1;36m0\u001b[0m\u001b[1;33m]\u001b[0m\u001b[1;33m\u001b[0m\u001b[0m\n\u001b[0;32m     89\u001b[0m             \u001b[0mgrad\u001b[0m\u001b[1;33m[\u001b[0m\u001b[1;36m0\u001b[0m\u001b[1;33m]\u001b[0m \u001b[1;33m=\u001b[0m \u001b[1;33m(\u001b[0m\u001b[1;36m1.0\u001b[0m \u001b[1;33m/\u001b[0m \u001b[0mm\u001b[0m\u001b[1;33m)\u001b[0m \u001b[1;33m*\u001b[0m \u001b[0mnp\u001b[0m\u001b[1;33m.\u001b[0m\u001b[0msum\u001b[0m\u001b[1;33m(\u001b[0m\u001b[0mA\u001b[0m\u001b[1;33m*\u001b[0m\u001b[0mB\u001b[0m\u001b[1;33m)\u001b[0m\u001b[1;33m\u001b[0m\u001b[0m\n",
      "\u001b[1;31mKeyboardInterrupt\u001b[0m: "
     ]
    }
   ],
   "source": [
    "C = [0.001, 0.01, 0.1, 1.0, 10.0, 100.0]\n",
    "\n",
    "def select_reg_parameter(C, X, Y):\n",
    "    kfolds = cv.KFold(n=len(Y), n_folds=5, shuffle=True, random_state=40)\n",
    "    results = []\n",
    "    for i, c in enumerate(C):\n",
    "        print \"################ Iteration №%d; C = %f ################\" % (i, c)\n",
    "        auc = []\n",
    "        for j, (train_index, test_index) in enumerate(kfolds):\n",
    "            print \"Fold №%d of %d\" % (j+1, len(kfolds))\n",
    "            r = LogisticRegression(lambda_par = 1.0, n_iters=100, alpha_par = c, output=False, tol=0.0000001)\n",
    "            r.fit(X[train_index],Y[train_index])\n",
    "            y_prob = r.predict_proba(X[test_index])\n",
    "            curr_auc = auroc(y_prob, Y[test_index])[2]\n",
    "            curr_acc = accuracy(y_prob, Y[test_index])\n",
    "            print \"Accuracy\", curr_acc\n",
    "            print \"AUC\", curr_auc\n",
    "            auc.append(curr_auc)\n",
    "        results.append(np.mean(auc))\n",
    "        print \"Mean:\", results\n",
    "    return results.index(max(results))\n",
    "\n",
    "index = select_reg_parameter(C, X1, Y)\n",
    "print index"
   ]
  },
  {
   "cell_type": "markdown",
   "metadata": {},
   "source": [
    "Выбираем наилучшее значение $C$, и классифицируем неизвестных пользователей и строим ROC-кривую"
   ]
  },
  {
   "cell_type": "code",
   "execution_count": 16,
   "metadata": {
    "collapsed": false,
    "scrolled": true
   },
   "outputs": [
    {
     "name": "stdout",
     "output_type": "stream",
     "text": [
      "Total: Cost 0.603090046709 Delta_theta 0.0387438729152\n",
      "Area under the ROC curve : 0.699381\n"
     ]
    },
    {
     "data": {
      "image/png": "[encoded data removed]",
      "text/plain": [
       "<matplotlib.figure.Figure at 0xaac5dd8>"
      ]
     },
     "metadata": {},
     "output_type": "display_data"
    }
   ],
   "source": [
    "def classify(X, Y, test_size, C):\n",
    "    model = LogisticRegression(lambda_par = 1.0, n_iters=100, alpha_par = C, output=False, tol=0.0000001)\n",
    "    x_train, x_test, y_train, y_test = cv.train_test_split(X, Y, test_size=test_size)\n",
    "    fit = model.fit(x_train, y_train)\n",
    "    y_prob = fit.predict_proba(x_test)    \n",
    "    return auroc(y_prob, y_test)   \n",
    "\n",
    "tpr, fpr, roc_auc = classify(X1, Y, 0.3, C[index])\n",
    "\n",
    "print \"Area under the ROC curve : %f\" % roc_auc\n",
    "\n",
    "def plot_roc_curve(tpr, fpr, roc_auc): \n",
    "    \"\"\"Plot ROC curve\"\"\"\n",
    "    # Plot ROC curve\n",
    "    plt.figure(figsize=(4,4))\n",
    "    plt.fill_between(fpr, tpr, alpha=0.5)\n",
    "    plt.plot([0, 1], [0, 1])\n",
    "    plt.xlim([0.0, 1.0])\n",
    "    plt.ylim([0.0, 1.0])\n",
    "    plt.xlabel('FPR')\n",
    "    plt.ylabel('TPR')\n",
    "    \n",
    "plot_roc_curve(tpr, fpr, roc_auc)"
   ]
  }
 ],
 "metadata": {
  "anaconda-cloud": {},
  "kernelspec": {
   "display_name": "Python [default]",
   "language": "python",
   "name": "python2"
  },
  "language_info": {
   "codemirror_mode": {
    "name": "ipython",
    "version": 2
   },
   "file_extension": ".py",
   "mimetype": "text/x-python",
   "name": "python",
   "nbconvert_exporter": "python",
   "pygments_lexer": "ipython2",
   "version": "2.7.12"
  }
 },
 "nbformat": 4,
 "nbformat_minor": 0
}
