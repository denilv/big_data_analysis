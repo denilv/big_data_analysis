{
 "cells": [
  {
   "cell_type": "markdown",
   "metadata": {},
   "source": [
    "# HW4 Denisov Ilia"
   ]
  },
  {
   "cell_type": "markdown",
   "metadata": {},
   "source": [
    "1. Постройте модель линейной регрессии по соответствующему вашему варианту набору данных. \n",
    "2. Использовать регуляризацию не нужно! \n",
    "3. Рекомендую использовать statmodels.\n",
    "4. Посмотреть на результаты и попытаться вспомнить, что означают все эти \"статистики, критерии ... \"."
   ]
  },
  {
   "cell_type": "code",
   "execution_count": 1,
   "metadata": {
    "collapsed": true
   },
   "outputs": [],
   "source": [
    "import statsmodels as sm\n",
    "import pandas as pd\n",
    "import matplotlib.pyplot as plt\n",
    "import numpy as np\n",
    "plt.style.use('ggplot')\n",
    "%matplotlib inline"
   ]
  },
  {
   "cell_type": "code",
   "execution_count": 2,
   "metadata": {
    "collapsed": true
   },
   "outputs": [],
   "source": [
    "from statsmodels.graphics.api import qqplot\n",
    "import statsmodels.formula.api as smf\n",
    "from statsmodels.stats import diagnostic as ols_d\n",
    "from scipy import stats"
   ]
  },
  {
   "cell_type": "code",
   "execution_count": 3,
   "metadata": {
    "collapsed": true
   },
   "outputs": [],
   "source": [
    "data = np.loadtxt('data/x20.txt', skiprows=41)"
   ]
  },
  {
   "cell_type": "code",
   "execution_count": 4,
   "metadata": {
    "collapsed": false
   },
   "outputs": [
    {
     "data": {
      "text/html": [
       "<div>\n",
       "<table border=\"1\" class=\"dataframe\">\n",
       "  <thead>\n",
       "    <tr style=\"text-align: right;\">\n",
       "      <th></th>\n",
       "      <th>One</th>\n",
       "      <th>UrbanPopulation</th>\n",
       "      <th>LateBirths</th>\n",
       "      <th>WineConsumption</th>\n",
       "      <th>LiquorConsumption</th>\n",
       "      <th>CirrhosisDeathRate</th>\n",
       "    </tr>\n",
       "  </thead>\n",
       "  <tbody>\n",
       "    <tr>\n",
       "      <th>0</th>\n",
       "      <td>1.0</td>\n",
       "      <td>44.0</td>\n",
       "      <td>33.2</td>\n",
       "      <td>5.0</td>\n",
       "      <td>30.0</td>\n",
       "      <td>41.2</td>\n",
       "    </tr>\n",
       "    <tr>\n",
       "      <th>1</th>\n",
       "      <td>1.0</td>\n",
       "      <td>43.0</td>\n",
       "      <td>33.8</td>\n",
       "      <td>4.0</td>\n",
       "      <td>41.0</td>\n",
       "      <td>31.7</td>\n",
       "    </tr>\n",
       "    <tr>\n",
       "      <th>2</th>\n",
       "      <td>1.0</td>\n",
       "      <td>48.0</td>\n",
       "      <td>40.6</td>\n",
       "      <td>3.0</td>\n",
       "      <td>38.0</td>\n",
       "      <td>39.4</td>\n",
       "    </tr>\n",
       "    <tr>\n",
       "      <th>3</th>\n",
       "      <td>1.0</td>\n",
       "      <td>52.0</td>\n",
       "      <td>39.2</td>\n",
       "      <td>7.0</td>\n",
       "      <td>48.0</td>\n",
       "      <td>57.5</td>\n",
       "    </tr>\n",
       "    <tr>\n",
       "      <th>4</th>\n",
       "      <td>1.0</td>\n",
       "      <td>71.0</td>\n",
       "      <td>45.5</td>\n",
       "      <td>11.0</td>\n",
       "      <td>53.0</td>\n",
       "      <td>74.8</td>\n",
       "    </tr>\n",
       "  </tbody>\n",
       "</table>\n",
       "</div>"
      ],
      "text/plain": [
       "   One  UrbanPopulation  LateBirths  WineConsumption  LiquorConsumption  \\\n",
       "0  1.0             44.0        33.2              5.0               30.0   \n",
       "1  1.0             43.0        33.8              4.0               41.0   \n",
       "2  1.0             48.0        40.6              3.0               38.0   \n",
       "3  1.0             52.0        39.2              7.0               48.0   \n",
       "4  1.0             71.0        45.5             11.0               53.0   \n",
       "\n",
       "   CirrhosisDeathRate  \n",
       "0                41.2  \n",
       "1                31.7  \n",
       "2                39.4  \n",
       "3                57.5  \n",
       "4                74.8  "
      ]
     },
     "execution_count": 4,
     "metadata": {},
     "output_type": "execute_result"
    }
   ],
   "source": [
    "columns = ['One', 'UrbanPopulation', 'LateBirths', 'WineConsumption', 'LiquorConsumption', 'CirrhosisDeathRate']\n",
    "df = pd.DataFrame(data[:,1:], columns=columns)\n",
    "df.head()"
   ]
  },
  {
   "cell_type": "code",
   "execution_count": 14,
   "metadata": {
    "collapsed": false
   },
   "outputs": [
    {
     "data": {
      "text/plain": [
       "<matplotlib.axes._subplots.AxesSubplot at 0xb4eb8d0>"
      ]
     },
     "execution_count": 14,
     "metadata": {},
     "output_type": "execute_result"
    },
    {
     "data": {
      "image/png": "[encoded data removed]",
      "text/plain": [
       "<matplotlib.figure.Figure at 0xae3d198>"
      ]
     },
     "metadata": {},
     "output_type": "display_data"
    }
   ],
   "source": [
    "df.plot(kind='scatter', x='UrbanPopulation', y='CirrhosisDeathRate')"
   ]
  },
  {
   "cell_type": "code",
   "execution_count": 15,
   "metadata": {
    "collapsed": false
   },
   "outputs": [
    {
     "data": {
      "text/plain": [
       "<matplotlib.axes._subplots.AxesSubplot at 0xb441588>"
      ]
     },
     "execution_count": 15,
     "metadata": {},
     "output_type": "execute_result"
    },
    {
     "data": {
      "image/png": "[encoded data removed]",
      "text/plain": [
       "<matplotlib.figure.Figure at 0xb44ec88>"
      ]
     },
     "metadata": {},
     "output_type": "display_data"
    }
   ],
   "source": [
    "df.plot(kind='scatter', x='LateBirths', y='CirrhosisDeathRate')"
   ]
  },
  {
   "cell_type": "code",
   "execution_count": 16,
   "metadata": {
    "collapsed": false
   },
   "outputs": [
    {
     "data": {
      "text/plain": [
       "<matplotlib.axes._subplots.AxesSubplot at 0xb5da128>"
      ]
     },
     "execution_count": 16,
     "metadata": {},
     "output_type": "execute_result"
    },
    {
     "data": {
      "image/png": "[encoded data removed]",
      "text/plain": [
       "<matplotlib.figure.Figure at 0xb458240>"
      ]
     },
     "metadata": {},
     "output_type": "display_data"
    }
   ],
   "source": [
    "df.plot(kind='scatter', x='WineConsumption', y='CirrhosisDeathRate')"
   ]
  },
  {
   "cell_type": "code",
   "execution_count": 17,
   "metadata": {
    "collapsed": false
   },
   "outputs": [
    {
     "data": {
      "text/plain": [
       "<matplotlib.axes._subplots.AxesSubplot at 0xbb4f748>"
      ]
     },
     "execution_count": 17,
     "metadata": {},
     "output_type": "execute_result"
    },
    {
     "data": {
      "image/png": "[encoded data removed]",
      "text/plain": [
       "<matplotlib.figure.Figure at 0xbc33940>"
      ]
     },
     "metadata": {},
     "output_type": "display_data"
    }
   ],
   "source": [
    "df.plot(kind='scatter', x='LiquorConsumption', y='CirrhosisDeathRate')"
   ]
  },
  {
   "cell_type": "code",
   "execution_count": 5,
   "metadata": {
    "collapsed": false
   },
   "outputs": [
    {
     "data": {
      "text/plain": [
       "Intercept           -13.963100\n",
       "UrbanPopulation       0.098286\n",
       "LateBirths            1.148377\n",
       "WineConsumption       1.857861\n",
       "LiquorConsumption     0.048170\n",
       "dtype: float64"
      ]
     },
     "execution_count": 5,
     "metadata": {},
     "output_type": "execute_result"
    }
   ],
   "source": [
    "lm = smf.ols(formula='CirrhosisDeathRate ~ UrbanPopulation + LateBirths + WineConsumption + LiquorConsumption', data=df).fit()\n",
    "lm.params"
   ]
  },
  {
   "cell_type": "code",
   "execution_count": 6,
   "metadata": {
    "collapsed": false
   },
   "outputs": [
    {
     "data": {
      "text/html": [
       "<table class=\"simpletable\">\n",
       "<caption>OLS Regression Results</caption>\n",
       "<tr>\n",
       "  <th>Dep. Variable:</th>    <td>CirrhosisDeathRate</td> <th>  R-squared:         </th> <td>   0.814</td>\n",
       "</tr>\n",
       "<tr>\n",
       "  <th>Model:</th>                    <td>OLS</td>        <th>  Adj. R-squared:    </th> <td>   0.795</td>\n",
       "</tr>\n",
       "<tr>\n",
       "  <th>Method:</th>              <td>Least Squares</td>   <th>  F-statistic:       </th> <td>   44.75</td>\n",
       "</tr>\n",
       "<tr>\n",
       "  <th>Date:</th>              <td>Thu, 26 May 2016</td>  <th>  Prob (F-statistic):</th> <td>1.95e-14</td>\n",
       "</tr>\n",
       "<tr>\n",
       "  <th>Time:</th>                  <td>23:14:44</td>      <th>  Log-Likelihood:    </th> <td> -171.25</td>\n",
       "</tr>\n",
       "<tr>\n",
       "  <th>No. Observations:</th>       <td>    46</td>       <th>  AIC:               </th> <td>   352.5</td>\n",
       "</tr>\n",
       "<tr>\n",
       "  <th>Df Residuals:</th>           <td>    41</td>       <th>  BIC:               </th> <td>   361.6</td>\n",
       "</tr>\n",
       "<tr>\n",
       "  <th>Df Model:</th>               <td>     4</td>       <th>                     </th>     <td> </td>   \n",
       "</tr>\n",
       "<tr>\n",
       "  <th>Covariance Type:</th>       <td>nonrobust</td>     <th>                     </th>     <td> </td>   \n",
       "</tr>\n",
       "</table>\n",
       "<table class=\"simpletable\">\n",
       "<tr>\n",
       "          <td></td>             <th>coef</th>     <th>std err</th>      <th>t</th>      <th>P>|t|</th> <th>[95.0% Conf. Int.]</th> \n",
       "</tr>\n",
       "<tr>\n",
       "  <th>Intercept</th>         <td>  -13.9631</td> <td>   11.400</td> <td>   -1.225</td> <td> 0.228</td> <td>  -36.987     9.060</td>\n",
       "</tr>\n",
       "<tr>\n",
       "  <th>UrbanPopulation</th>   <td>    0.0983</td> <td>    0.244</td> <td>    0.403</td> <td> 0.689</td> <td>   -0.395     0.591</td>\n",
       "</tr>\n",
       "<tr>\n",
       "  <th>LateBirths</th>        <td>    1.1484</td> <td>    0.583</td> <td>    1.970</td> <td> 0.056</td> <td>   -0.029     2.326</td>\n",
       "</tr>\n",
       "<tr>\n",
       "  <th>WineConsumption</th>   <td>    1.8579</td> <td>    0.401</td> <td>    4.634</td> <td> 0.000</td> <td>    1.048     2.668</td>\n",
       "</tr>\n",
       "<tr>\n",
       "  <th>LiquorConsumption</th> <td>    0.0482</td> <td>    0.133</td> <td>    0.361</td> <td> 0.720</td> <td>   -0.221     0.317</td>\n",
       "</tr>\n",
       "</table>\n",
       "<table class=\"simpletable\">\n",
       "<tr>\n",
       "  <th>Omnibus:</th>       <td> 3.887</td> <th>  Durbin-Watson:     </th> <td>   2.549</td>\n",
       "</tr>\n",
       "<tr>\n",
       "  <th>Prob(Omnibus):</th> <td> 0.143</td> <th>  Jarque-Bera (JB):  </th> <td>   1.988</td>\n",
       "</tr>\n",
       "<tr>\n",
       "  <th>Skew:</th>          <td>-0.211</td> <th>  Prob(JB):          </th> <td>   0.370</td>\n",
       "</tr>\n",
       "<tr>\n",
       "  <th>Kurtosis:</th>      <td> 2.073</td> <th>  Cond. No.          </th> <td>    688.</td>\n",
       "</tr>\n",
       "</table>"
      ],
      "text/plain": [
       "<class 'statsmodels.iolib.summary.Summary'>\n",
       "\"\"\"\n",
       "                            OLS Regression Results                            \n",
       "==============================================================================\n",
       "Dep. Variable:     CirrhosisDeathRate   R-squared:                       0.814\n",
       "Model:                            OLS   Adj. R-squared:                  0.795\n",
       "Method:                 Least Squares   F-statistic:                     44.75\n",
       "Date:                Thu, 26 May 2016   Prob (F-statistic):           1.95e-14\n",
       "Time:                        23:14:44   Log-Likelihood:                -171.25\n",
       "No. Observations:                  46   AIC:                             352.5\n",
       "Df Residuals:                      41   BIC:                             361.6\n",
       "Df Model:                           4                                         \n",
       "Covariance Type:            nonrobust                                         \n",
       "=====================================================================================\n",
       "                        coef    std err          t      P>|t|      [95.0% Conf. Int.]\n",
       "-------------------------------------------------------------------------------------\n",
       "Intercept           -13.9631     11.400     -1.225      0.228       -36.987     9.060\n",
       "UrbanPopulation       0.0983      0.244      0.403      0.689        -0.395     0.591\n",
       "LateBirths            1.1484      0.583      1.970      0.056        -0.029     2.326\n",
       "WineConsumption       1.8579      0.401      4.634      0.000         1.048     2.668\n",
       "LiquorConsumption     0.0482      0.133      0.361      0.720        -0.221     0.317\n",
       "==============================================================================\n",
       "Omnibus:                        3.887   Durbin-Watson:                   2.549\n",
       "Prob(Omnibus):                  0.143   Jarque-Bera (JB):                1.988\n",
       "Skew:                          -0.211   Prob(JB):                        0.370\n",
       "Kurtosis:                       2.073   Cond. No.                         688.\n",
       "==============================================================================\n",
       "\n",
       "Warnings:\n",
       "[1] Standard Errors assume that the covariance matrix of the errors is correctly specified.\n",
       "\"\"\""
      ]
     },
     "execution_count": 6,
     "metadata": {},
     "output_type": "execute_result"
    }
   ],
   "source": [
    "lm.summary()"
   ]
  },
  {
   "cell_type": "code",
   "execution_count": 9,
   "metadata": {
    "collapsed": false
   },
   "outputs": [
    {
     "data": {
      "image/png": "[encoded data removed]",
      "text/plain": [
       "<matplotlib.figure.Figure at 0xb4eb940>"
      ]
     },
     "metadata": {},
     "output_type": "display_data"
    }
   ],
   "source": [
    "mod_fit = smf.OLS(df['CirrhosisDeathRate'], df[['UrbanPopulation', 'LateBirths', 'WineConsumption', 'LiquorConsumption']]).fit()\n",
    "res = mod_fit.resid\n",
    "fig = qqplot(res, stats.norm, fit=True, line='45')\n",
    "plt.show()"
   ]
  },
  {
   "cell_type": "markdown",
   "metadata": {},
   "source": [
    "**Мультиколлинеарность**"
   ]
  },
  {
   "cell_type": "code",
   "execution_count": 10,
   "metadata": {
    "collapsed": false
   },
   "outputs": [
    {
     "data": {
      "text/html": [
       "<div>\n",
       "<table border=\"1\" class=\"dataframe\">\n",
       "  <thead>\n",
       "    <tr style=\"text-align: right;\">\n",
       "      <th></th>\n",
       "      <th>UrbanPopulation</th>\n",
       "      <th>LateBirths</th>\n",
       "      <th>WineConsumption</th>\n",
       "      <th>LiquorConsumption</th>\n",
       "    </tr>\n",
       "  </thead>\n",
       "  <tbody>\n",
       "    <tr>\n",
       "      <th>UrbanPopulation</th>\n",
       "      <td>1.000000</td>\n",
       "      <td>0.843281</td>\n",
       "      <td>0.678623</td>\n",
       "      <td>0.440296</td>\n",
       "    </tr>\n",
       "    <tr>\n",
       "      <th>LateBirths</th>\n",
       "      <td>0.843281</td>\n",
       "      <td>1.000000</td>\n",
       "      <td>0.639841</td>\n",
       "      <td>0.686364</td>\n",
       "    </tr>\n",
       "    <tr>\n",
       "      <th>WineConsumption</th>\n",
       "      <td>0.678623</td>\n",
       "      <td>0.639841</td>\n",
       "      <td>1.000000</td>\n",
       "      <td>0.675921</td>\n",
       "    </tr>\n",
       "    <tr>\n",
       "      <th>LiquorConsumption</th>\n",
       "      <td>0.440296</td>\n",
       "      <td>0.686364</td>\n",
       "      <td>0.675921</td>\n",
       "      <td>1.000000</td>\n",
       "    </tr>\n",
       "  </tbody>\n",
       "</table>\n",
       "</div>"
      ],
      "text/plain": [
       "                   UrbanPopulation  LateBirths  WineConsumption  \\\n",
       "UrbanPopulation           1.000000    0.843281         0.678623   \n",
       "LateBirths                0.843281    1.000000         0.639841   \n",
       "WineConsumption           0.678623    0.639841         1.000000   \n",
       "LiquorConsumption         0.440296    0.686364         0.675921   \n",
       "\n",
       "                   LiquorConsumption  \n",
       "UrbanPopulation             0.440296  \n",
       "LateBirths                  0.686364  \n",
       "WineConsumption             0.675921  \n",
       "LiquorConsumption           1.000000  "
      ]
     },
     "execution_count": 10,
     "metadata": {},
     "output_type": "execute_result"
    }
   ],
   "source": [
    "df[['UrbanPopulation','LateBirths','WineConsumption','LiquorConsumption']].corr()"
   ]
  },
  {
   "cell_type": "code",
   "execution_count": null,
   "metadata": {
    "collapsed": false
   },
   "outputs": [],
   "source": [
    "exog = df[['UrbanPopulation','LateBirths','WineConsumption','LiquorConsumption']]\n",
    "exog['cons'] = 1"
   ]
  },
  {
   "cell_type": "markdown",
   "metadata": {},
   "source": [
    "**Тест Бреуша-Пагана**"
   ]
  },
  {
   "cell_type": "markdown",
   "metadata": {},
   "source": [
    "Нулевая гипотеза - остатки гомоскедастичны."
   ]
  },
  {
   "cell_type": "code",
   "execution_count": 12,
   "metadata": {
    "collapsed": false
   },
   "outputs": [
    {
     "data": {
      "text/plain": [
       "(7.8876674324715079,\n",
       " 0.095780838459321796,\n",
       " 2.1213236172197849,\n",
       " 0.095494987846583335)"
      ]
     },
     "execution_count": 12,
     "metadata": {},
     "output_type": "execute_result"
    }
   ],
   "source": [
    "ols_d.het_breushpagan(res, exog)"
   ]
  },
  {
   "cell_type": "markdown",
   "metadata": {},
   "source": [
    "**Тест Уайта**"
   ]
  },
  {
   "cell_type": "code",
   "execution_count": 13,
   "metadata": {
    "collapsed": false
   },
   "outputs": [
    {
     "data": {
      "text/plain": [
       "(25.827306966944811,\n",
       " 0.027226160147377054,\n",
       " 2.8349728398517366,\n",
       " 0.0076733965320747574)"
      ]
     },
     "execution_count": 13,
     "metadata": {},
     "output_type": "execute_result"
    }
   ],
   "source": [
    "ols_d.het_white(res, exog)"
   ]
  }
 ],
 "metadata": {
  "kernelspec": {
   "display_name": "Python 2",
   "language": "python",
   "name": "python2"
  },
  "language_info": {
   "codemirror_mode": {
    "name": "ipython",
    "version": 2
   },
   "file_extension": ".py",
   "mimetype": "text/x-python",
   "name": "python",
   "nbconvert_exporter": "python",
   "pygments_lexer": "ipython2",
   "version": "2.7.11"
  }
 },
 "nbformat": 4,
 "nbformat_minor": 0
}
